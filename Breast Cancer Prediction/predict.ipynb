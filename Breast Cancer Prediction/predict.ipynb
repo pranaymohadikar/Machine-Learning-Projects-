{
 "cells": [
  {
   "cell_type": "code",
   "execution_count": 1,
   "metadata": {},
   "outputs": [
    {
     "name": "stdout",
     "output_type": "stream",
     "text": [
      "mean_radius: 17.99\n",
      "mean_texture: 10.38\n",
      "mean_perimeter: 122.80\n",
      "mean_area: 1001.0\n",
      "mean_smoothness: 0.11840\n",
      "Result : 0\n"
     ]
    }
   ],
   "source": [
    "import pandas as pd\n",
    "\n",
    "# Unpickle model \n",
    "model = pd.read_pickle('rfc_model.pickle') \n",
    "\n",
    "# Take input from user\n",
    "mean_radius = float(input('mean_radius: '))\n",
    "mean_texture = float(input('mean_texture: '))\n",
    "mean_perimeter = float(input('mean_perimeter: '))\t\n",
    "mean_area = float(input('mean_area: '))\t\n",
    "mean_smoothness = float(input('mean_smoothness: '))\n",
    "\n",
    "# Predict chances \n",
    "result = model.predict([[mean_radius,mean_texture,mean_perimeter,mean_area,mean_smoothness]])  # input must be 2D array\n",
    "print(f\"Result : {result[0]}\")"
   ]
  },
  {
   "cell_type": "code",
   "execution_count": null,
   "metadata": {},
   "outputs": [],
   "source": []
  }
 ],
 "metadata": {
  "kernelspec": {
   "display_name": "Python 3",
   "language": "python",
   "name": "python3"
  },
  "language_info": {
   "codemirror_mode": {
    "name": "ipython",
    "version": 3
   },
   "file_extension": ".py",
   "mimetype": "text/x-python",
   "name": "python",
   "nbconvert_exporter": "python",
   "pygments_lexer": "ipython3",
   "version": "3.8.5"
  }
 },
 "nbformat": 4,
 "nbformat_minor": 4
}
