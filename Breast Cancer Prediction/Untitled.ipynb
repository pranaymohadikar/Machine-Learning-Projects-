{
 "cells": [
  {
   "cell_type": "code",
   "execution_count": 1,
   "metadata": {},
   "outputs": [],
   "source": [
    "import pandas as pd\n",
    "import numpy as np\n",
    "from sklearn.model_selection import train_test_split\n",
    "from sklearn.model_selection import cross_val_score\n",
    "from sklearn.model_selection import RandomizedSearchCV\n",
    "from sklearn.ensemble import RandomForestClassifier\n",
    "from sklearn.naive_bayes import GaussianNB\n",
    "from sklearn.linear_model import LogisticRegression\n",
    "from sklearn.tree import DecisionTreeClassifier\n",
    "import pickle\n",
    "df=pd.read_csv('breastcancer.csv')\n",
    "y=df['diagnosis']\n",
    "X=df.drop('diagnosis',axis=1)\n",
    "X_train,X_test,y_train,y_test=train_test_split(X,y,test_size=0.2,random_state=42)\n",
    "\n",
    "\n",
    "## Random forest\n",
    "\n",
    "param={'max_depth':np.linspace(1,20,20),\n",
    "      'min_samples_split':[2,4,6,8],\n",
    "      'min_samples_leaf':[1,2,3,4,5],\n",
    "      'ccp_alpha':[0,0.01,0.1,1,10],\n",
    "      'n_estimators':(np.linspace(100,1000,10)).astype(np.int32)}\n",
    "\n",
    "rfc=RandomForestClassifier()\n",
    "random_rfc=RandomizedSearchCV(estimator=rfc, param_distributions=param,n_jobs=-1)\n",
    "random_rfc.fit(X_train,y_train)\n",
    "rfc_pred=random_rfc.predict(X_test)\n",
    "rfc_score=random_rfc.score(X_test,y_test)\n",
    "\n",
    "\n",
    "# Pickle model\n",
    "pd.to_pickle(random_rfc,'rfc_pred_model.pickle')\n"
   ]
  },
  {
   "cell_type": "code",
   "execution_count": 2,
   "metadata": {},
   "outputs": [
    {
     "data": {
      "text/plain": [
       "0.956140350877193"
      ]
     },
     "execution_count": 2,
     "metadata": {},
     "output_type": "execute_result"
    }
   ],
   "source": [
    "rfc_score"
   ]
  },
  {
   "cell_type": "code",
   "execution_count": null,
   "metadata": {},
   "outputs": [],
   "source": []
  }
 ],
 "metadata": {
  "kernelspec": {
   "display_name": "Python 3",
   "language": "python",
   "name": "python3"
  },
  "language_info": {
   "codemirror_mode": {
    "name": "ipython",
    "version": 3
   },
   "file_extension": ".py",
   "mimetype": "text/x-python",
   "name": "python",
   "nbconvert_exporter": "python",
   "pygments_lexer": "ipython3",
   "version": "3.8.5"
  }
 },
 "nbformat": 4,
 "nbformat_minor": 4
}
