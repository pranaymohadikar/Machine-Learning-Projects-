{
 "cells": [
  {
   "cell_type": "code",
   "execution_count": null,
   "metadata": {
    "colab": {
     "base_uri": "https://localhost:8080/",
     "height": 71
    },
    "executionInfo": {
     "elapsed": 933,
     "status": "ok",
     "timestamp": 1601360414654,
     "user": {
      "displayName": "PRANAY MOHADIKAR",
      "photoUrl": "",
      "userId": "06930064637025479586"
     },
     "user_tz": -330
    },
    "id": "zaaoSz6CgWpQ",
    "outputId": "58417ba4-6488-414f-fb5a-6e12ad0439cc"
   },
   "outputs": [
    {
     "name": "stderr",
     "output_type": "stream",
     "text": [
      "/usr/local/lib/python3.6/dist-packages/statsmodels/tools/_testing.py:19: FutureWarning: pandas.util.testing is deprecated. Use the functions in the public API at pandas.testing instead.\n",
      "  import pandas.util.testing as tm\n"
     ]
    }
   ],
   "source": [
    "import pandas as pd\n",
    "import seaborn as sns\n",
    "import matplotlib.pyplot as plt"
   ]
  },
  {
   "cell_type": "code",
   "execution_count": null,
   "metadata": {
    "id": "3BTcmqqLhMNe"
   },
   "outputs": [],
   "source": [
    "df=pd.read_csv('/content/drive/My Drive/Colab Notebooks/UCLA admission predictor/Admission_Predict.csv')"
   ]
  },
  {
   "cell_type": "code",
   "execution_count": null,
   "metadata": {
    "colab": {
     "base_uri": "https://localhost:8080/",
     "height": 191
    },
    "executionInfo": {
     "elapsed": 1049,
     "status": "ok",
     "timestamp": 1601360544372,
     "user": {
      "displayName": "PRANAY MOHADIKAR",
      "photoUrl": "",
      "userId": "06930064637025479586"
     },
     "user_tz": -330
    },
    "id": "DXCWXy5RhqUt",
    "outputId": "0528b726-43a8-4e8a-a4fe-635185cf869d"
   },
   "outputs": [
    {
     "data": {
      "text/html": [
       "<div>\n",
       "<style scoped>\n",
       "    .dataframe tbody tr th:only-of-type {\n",
       "        vertical-align: middle;\n",
       "    }\n",
       "\n",
       "    .dataframe tbody tr th {\n",
       "        vertical-align: top;\n",
       "    }\n",
       "\n",
       "    .dataframe thead th {\n",
       "        text-align: right;\n",
       "    }\n",
       "</style>\n",
       "<table border=\"1\" class=\"dataframe\">\n",
       "  <thead>\n",
       "    <tr style=\"text-align: right;\">\n",
       "      <th></th>\n",
       "      <th>Serial No.</th>\n",
       "      <th>GRE Score</th>\n",
       "      <th>TOEFL Score</th>\n",
       "      <th>University Rating</th>\n",
       "      <th>SOP</th>\n",
       "      <th>LOR</th>\n",
       "      <th>CGPA</th>\n",
       "      <th>Research</th>\n",
       "      <th>Chance of Admit</th>\n",
       "    </tr>\n",
       "  </thead>\n",
       "  <tbody>\n",
       "    <tr>\n",
       "      <th>0</th>\n",
       "      <td>1</td>\n",
       "      <td>337</td>\n",
       "      <td>118</td>\n",
       "      <td>4</td>\n",
       "      <td>4.5</td>\n",
       "      <td>4.5</td>\n",
       "      <td>9.65</td>\n",
       "      <td>1</td>\n",
       "      <td>0.92</td>\n",
       "    </tr>\n",
       "    <tr>\n",
       "      <th>1</th>\n",
       "      <td>2</td>\n",
       "      <td>324</td>\n",
       "      <td>107</td>\n",
       "      <td>4</td>\n",
       "      <td>4.0</td>\n",
       "      <td>4.5</td>\n",
       "      <td>8.87</td>\n",
       "      <td>1</td>\n",
       "      <td>0.76</td>\n",
       "    </tr>\n",
       "    <tr>\n",
       "      <th>2</th>\n",
       "      <td>3</td>\n",
       "      <td>316</td>\n",
       "      <td>104</td>\n",
       "      <td>3</td>\n",
       "      <td>3.0</td>\n",
       "      <td>3.5</td>\n",
       "      <td>8.00</td>\n",
       "      <td>1</td>\n",
       "      <td>0.72</td>\n",
       "    </tr>\n",
       "    <tr>\n",
       "      <th>3</th>\n",
       "      <td>4</td>\n",
       "      <td>322</td>\n",
       "      <td>110</td>\n",
       "      <td>3</td>\n",
       "      <td>3.5</td>\n",
       "      <td>2.5</td>\n",
       "      <td>8.67</td>\n",
       "      <td>1</td>\n",
       "      <td>0.80</td>\n",
       "    </tr>\n",
       "    <tr>\n",
       "      <th>4</th>\n",
       "      <td>5</td>\n",
       "      <td>314</td>\n",
       "      <td>103</td>\n",
       "      <td>2</td>\n",
       "      <td>2.0</td>\n",
       "      <td>3.0</td>\n",
       "      <td>8.21</td>\n",
       "      <td>0</td>\n",
       "      <td>0.65</td>\n",
       "    </tr>\n",
       "  </tbody>\n",
       "</table>\n",
       "</div>"
      ],
      "text/plain": [
       "   Serial No.  GRE Score  TOEFL Score  ...  CGPA  Research  Chance of Admit \n",
       "0           1        337          118  ...  9.65         1              0.92\n",
       "1           2        324          107  ...  8.87         1              0.76\n",
       "2           3        316          104  ...  8.00         1              0.72\n",
       "3           4        322          110  ...  8.67         1              0.80\n",
       "4           5        314          103  ...  8.21         0              0.65\n",
       "\n",
       "[5 rows x 9 columns]"
      ]
     },
     "execution_count": 3,
     "metadata": {
      "tags": []
     },
     "output_type": "execute_result"
    }
   ],
   "source": [
    "df.head()"
   ]
  },
  {
   "cell_type": "code",
   "execution_count": null,
   "metadata": {
    "colab": {
     "base_uri": "https://localhost:8080/",
     "height": 277
    },
    "executionInfo": {
     "elapsed": 735,
     "status": "ok",
     "timestamp": 1601360613706,
     "user": {
      "displayName": "PRANAY MOHADIKAR",
      "photoUrl": "",
      "userId": "06930064637025479586"
     },
     "user_tz": -330
    },
    "id": "YCYpkmvqhrwS",
    "outputId": "583c6888-d616-46ff-ee0d-893f4518161d"
   },
   "outputs": [
    {
     "name": "stdout",
     "output_type": "stream",
     "text": [
      "<class 'pandas.core.frame.DataFrame'>\n",
      "RangeIndex: 400 entries, 0 to 399\n",
      "Data columns (total 9 columns):\n",
      " #   Column             Non-Null Count  Dtype  \n",
      "---  ------             --------------  -----  \n",
      " 0   Serial No.         400 non-null    int64  \n",
      " 1   GRE Score          400 non-null    int64  \n",
      " 2   TOEFL Score        400 non-null    int64  \n",
      " 3   University Rating  400 non-null    int64  \n",
      " 4   SOP                400 non-null    float64\n",
      " 5   LOR                400 non-null    float64\n",
      " 6   CGPA               400 non-null    float64\n",
      " 7   Research           400 non-null    int64  \n",
      " 8   Chance of Admit    400 non-null    float64\n",
      "dtypes: float64(4), int64(5)\n",
      "memory usage: 28.2 KB\n"
     ]
    }
   ],
   "source": [
    "df.info()"
   ]
  },
  {
   "cell_type": "code",
   "execution_count": null,
   "metadata": {
    "colab": {
     "base_uri": "https://localhost:8080/",
     "height": 50
    },
    "executionInfo": {
     "elapsed": 1083,
     "status": "ok",
     "timestamp": 1601362080318,
     "user": {
      "displayName": "PRANAY MOHADIKAR",
      "photoUrl": "",
      "userId": "06930064637025479586"
     },
     "user_tz": -330
    },
    "id": "2an8KGHGh8z9",
    "outputId": "fa77c23b-b067-45e8-e584-a74b2e0dc30f"
   },
   "outputs": [
    {
     "name": "stdout",
     "output_type": "stream",
     "text": [
      "rows : 400\n",
      "columns : 9\n"
     ]
    }
   ],
   "source": [
    "# rows and cols\n",
    "print(f'rows : {df.shape[0]}')\n",
    "print(f'columns : {df.shape[1]}')"
   ]
  },
  {
   "cell_type": "code",
   "execution_count": null,
   "metadata": {
    "colab": {
     "base_uri": "https://localhost:8080/",
     "height": 306
    },
    "executionInfo": {
     "elapsed": 1067,
     "status": "ok",
     "timestamp": 1601362065306,
     "user": {
      "displayName": "PRANAY MOHADIKAR",
      "photoUrl": "",
      "userId": "06930064637025479586"
     },
     "user_tz": -330
    },
    "id": "2wLFkh4biHF2",
    "outputId": "63aeee7a-4369-4116-84b1-2084187455a4"
   },
   "outputs": [
    {
     "data": {
      "text/html": [
       "<div>\n",
       "<style scoped>\n",
       "    .dataframe tbody tr th:only-of-type {\n",
       "        vertical-align: middle;\n",
       "    }\n",
       "\n",
       "    .dataframe tbody tr th {\n",
       "        vertical-align: top;\n",
       "    }\n",
       "\n",
       "    .dataframe thead th {\n",
       "        text-align: right;\n",
       "    }\n",
       "</style>\n",
       "<table border=\"1\" class=\"dataframe\">\n",
       "  <thead>\n",
       "    <tr style=\"text-align: right;\">\n",
       "      <th></th>\n",
       "      <th>count</th>\n",
       "      <th>mean</th>\n",
       "      <th>std</th>\n",
       "      <th>min</th>\n",
       "      <th>25%</th>\n",
       "      <th>50%</th>\n",
       "      <th>75%</th>\n",
       "      <th>max</th>\n",
       "    </tr>\n",
       "  </thead>\n",
       "  <tbody>\n",
       "    <tr>\n",
       "      <th>Serial No.</th>\n",
       "      <td>400.0</td>\n",
       "      <td>200.500000</td>\n",
       "      <td>115.614301</td>\n",
       "      <td>1.00</td>\n",
       "      <td>100.75</td>\n",
       "      <td>200.50</td>\n",
       "      <td>300.2500</td>\n",
       "      <td>400.00</td>\n",
       "    </tr>\n",
       "    <tr>\n",
       "      <th>GRE Score</th>\n",
       "      <td>400.0</td>\n",
       "      <td>316.807500</td>\n",
       "      <td>11.473646</td>\n",
       "      <td>290.00</td>\n",
       "      <td>308.00</td>\n",
       "      <td>317.00</td>\n",
       "      <td>325.0000</td>\n",
       "      <td>340.00</td>\n",
       "    </tr>\n",
       "    <tr>\n",
       "      <th>TOEFL Score</th>\n",
       "      <td>400.0</td>\n",
       "      <td>107.410000</td>\n",
       "      <td>6.069514</td>\n",
       "      <td>92.00</td>\n",
       "      <td>103.00</td>\n",
       "      <td>107.00</td>\n",
       "      <td>112.0000</td>\n",
       "      <td>120.00</td>\n",
       "    </tr>\n",
       "    <tr>\n",
       "      <th>University Rating</th>\n",
       "      <td>400.0</td>\n",
       "      <td>3.087500</td>\n",
       "      <td>1.143728</td>\n",
       "      <td>1.00</td>\n",
       "      <td>2.00</td>\n",
       "      <td>3.00</td>\n",
       "      <td>4.0000</td>\n",
       "      <td>5.00</td>\n",
       "    </tr>\n",
       "    <tr>\n",
       "      <th>SOP</th>\n",
       "      <td>400.0</td>\n",
       "      <td>3.400000</td>\n",
       "      <td>1.006869</td>\n",
       "      <td>1.00</td>\n",
       "      <td>2.50</td>\n",
       "      <td>3.50</td>\n",
       "      <td>4.0000</td>\n",
       "      <td>5.00</td>\n",
       "    </tr>\n",
       "    <tr>\n",
       "      <th>LOR</th>\n",
       "      <td>400.0</td>\n",
       "      <td>3.452500</td>\n",
       "      <td>0.898478</td>\n",
       "      <td>1.00</td>\n",
       "      <td>3.00</td>\n",
       "      <td>3.50</td>\n",
       "      <td>4.0000</td>\n",
       "      <td>5.00</td>\n",
       "    </tr>\n",
       "    <tr>\n",
       "      <th>CGPA</th>\n",
       "      <td>400.0</td>\n",
       "      <td>8.598925</td>\n",
       "      <td>0.596317</td>\n",
       "      <td>6.80</td>\n",
       "      <td>8.17</td>\n",
       "      <td>8.61</td>\n",
       "      <td>9.0625</td>\n",
       "      <td>9.92</td>\n",
       "    </tr>\n",
       "    <tr>\n",
       "      <th>Research</th>\n",
       "      <td>400.0</td>\n",
       "      <td>0.547500</td>\n",
       "      <td>0.498362</td>\n",
       "      <td>0.00</td>\n",
       "      <td>0.00</td>\n",
       "      <td>1.00</td>\n",
       "      <td>1.0000</td>\n",
       "      <td>1.00</td>\n",
       "    </tr>\n",
       "    <tr>\n",
       "      <th>Chance of Admit</th>\n",
       "      <td>400.0</td>\n",
       "      <td>0.724350</td>\n",
       "      <td>0.142609</td>\n",
       "      <td>0.34</td>\n",
       "      <td>0.64</td>\n",
       "      <td>0.73</td>\n",
       "      <td>0.8300</td>\n",
       "      <td>0.97</td>\n",
       "    </tr>\n",
       "  </tbody>\n",
       "</table>\n",
       "</div>"
      ],
      "text/plain": [
       "                   count        mean         std  ...     50%       75%     max\n",
       "Serial No.         400.0  200.500000  115.614301  ...  200.50  300.2500  400.00\n",
       "GRE Score          400.0  316.807500   11.473646  ...  317.00  325.0000  340.00\n",
       "TOEFL Score        400.0  107.410000    6.069514  ...  107.00  112.0000  120.00\n",
       "University Rating  400.0    3.087500    1.143728  ...    3.00    4.0000    5.00\n",
       "SOP                400.0    3.400000    1.006869  ...    3.50    4.0000    5.00\n",
       "LOR                400.0    3.452500    0.898478  ...    3.50    4.0000    5.00\n",
       "CGPA               400.0    8.598925    0.596317  ...    8.61    9.0625    9.92\n",
       "Research           400.0    0.547500    0.498362  ...    1.00    1.0000    1.00\n",
       "Chance of Admit    400.0    0.724350    0.142609  ...    0.73    0.8300    0.97\n",
       "\n",
       "[9 rows x 8 columns]"
      ]
     },
     "execution_count": 9,
     "metadata": {
      "tags": []
     },
     "output_type": "execute_result"
    }
   ],
   "source": [
    "#statistical information about dataset\n",
    "df.describe().T"
   ]
  },
  {
   "cell_type": "code",
   "execution_count": null,
   "metadata": {
    "colab": {
     "base_uri": "https://localhost:8080/",
     "height": 306
    },
    "executionInfo": {
     "elapsed": 1034,
     "status": "ok",
     "timestamp": 1601362004367,
     "user": {
      "displayName": "PRANAY MOHADIKAR",
      "photoUrl": "",
      "userId": "06930064637025479586"
     },
     "user_tz": -330
    },
    "id": "_v0P2jISiPfL",
    "outputId": "bd0d1c8b-a53c-4327-93e4-f7370222f2cd"
   },
   "outputs": [
    {
     "data": {
      "text/html": [
       "<div>\n",
       "<style scoped>\n",
       "    .dataframe tbody tr th:only-of-type {\n",
       "        vertical-align: middle;\n",
       "    }\n",
       "\n",
       "    .dataframe tbody tr th {\n",
       "        vertical-align: top;\n",
       "    }\n",
       "\n",
       "    .dataframe thead th {\n",
       "        text-align: right;\n",
       "    }\n",
       "</style>\n",
       "<table border=\"1\" class=\"dataframe\">\n",
       "  <thead>\n",
       "    <tr style=\"text-align: right;\">\n",
       "      <th></th>\n",
       "      <th>Serial No.</th>\n",
       "      <th>GRE Score</th>\n",
       "      <th>TOEFL Score</th>\n",
       "      <th>University Rating</th>\n",
       "      <th>SOP</th>\n",
       "      <th>LOR</th>\n",
       "      <th>CGPA</th>\n",
       "      <th>Research</th>\n",
       "      <th>Chance of Admit</th>\n",
       "    </tr>\n",
       "  </thead>\n",
       "  <tbody>\n",
       "    <tr>\n",
       "      <th>Serial No.</th>\n",
       "      <td>1.000000</td>\n",
       "      <td>-0.097526</td>\n",
       "      <td>-0.147932</td>\n",
       "      <td>-0.169948</td>\n",
       "      <td>-0.166932</td>\n",
       "      <td>-0.088221</td>\n",
       "      <td>-0.045608</td>\n",
       "      <td>-0.063138</td>\n",
       "      <td>0.042336</td>\n",
       "    </tr>\n",
       "    <tr>\n",
       "      <th>GRE Score</th>\n",
       "      <td>-0.097526</td>\n",
       "      <td>1.000000</td>\n",
       "      <td>0.835977</td>\n",
       "      <td>0.668976</td>\n",
       "      <td>0.612831</td>\n",
       "      <td>0.557555</td>\n",
       "      <td>0.833060</td>\n",
       "      <td>0.580391</td>\n",
       "      <td>0.802610</td>\n",
       "    </tr>\n",
       "    <tr>\n",
       "      <th>TOEFL Score</th>\n",
       "      <td>-0.147932</td>\n",
       "      <td>0.835977</td>\n",
       "      <td>1.000000</td>\n",
       "      <td>0.695590</td>\n",
       "      <td>0.657981</td>\n",
       "      <td>0.567721</td>\n",
       "      <td>0.828417</td>\n",
       "      <td>0.489858</td>\n",
       "      <td>0.791594</td>\n",
       "    </tr>\n",
       "    <tr>\n",
       "      <th>University Rating</th>\n",
       "      <td>-0.169948</td>\n",
       "      <td>0.668976</td>\n",
       "      <td>0.695590</td>\n",
       "      <td>1.000000</td>\n",
       "      <td>0.734523</td>\n",
       "      <td>0.660123</td>\n",
       "      <td>0.746479</td>\n",
       "      <td>0.447783</td>\n",
       "      <td>0.711250</td>\n",
       "    </tr>\n",
       "    <tr>\n",
       "      <th>SOP</th>\n",
       "      <td>-0.166932</td>\n",
       "      <td>0.612831</td>\n",
       "      <td>0.657981</td>\n",
       "      <td>0.734523</td>\n",
       "      <td>1.000000</td>\n",
       "      <td>0.729593</td>\n",
       "      <td>0.718144</td>\n",
       "      <td>0.444029</td>\n",
       "      <td>0.675732</td>\n",
       "    </tr>\n",
       "    <tr>\n",
       "      <th>LOR</th>\n",
       "      <td>-0.088221</td>\n",
       "      <td>0.557555</td>\n",
       "      <td>0.567721</td>\n",
       "      <td>0.660123</td>\n",
       "      <td>0.729593</td>\n",
       "      <td>1.000000</td>\n",
       "      <td>0.670211</td>\n",
       "      <td>0.396859</td>\n",
       "      <td>0.669889</td>\n",
       "    </tr>\n",
       "    <tr>\n",
       "      <th>CGPA</th>\n",
       "      <td>-0.045608</td>\n",
       "      <td>0.833060</td>\n",
       "      <td>0.828417</td>\n",
       "      <td>0.746479</td>\n",
       "      <td>0.718144</td>\n",
       "      <td>0.670211</td>\n",
       "      <td>1.000000</td>\n",
       "      <td>0.521654</td>\n",
       "      <td>0.873289</td>\n",
       "    </tr>\n",
       "    <tr>\n",
       "      <th>Research</th>\n",
       "      <td>-0.063138</td>\n",
       "      <td>0.580391</td>\n",
       "      <td>0.489858</td>\n",
       "      <td>0.447783</td>\n",
       "      <td>0.444029</td>\n",
       "      <td>0.396859</td>\n",
       "      <td>0.521654</td>\n",
       "      <td>1.000000</td>\n",
       "      <td>0.553202</td>\n",
       "    </tr>\n",
       "    <tr>\n",
       "      <th>Chance of Admit</th>\n",
       "      <td>0.042336</td>\n",
       "      <td>0.802610</td>\n",
       "      <td>0.791594</td>\n",
       "      <td>0.711250</td>\n",
       "      <td>0.675732</td>\n",
       "      <td>0.669889</td>\n",
       "      <td>0.873289</td>\n",
       "      <td>0.553202</td>\n",
       "      <td>1.000000</td>\n",
       "    </tr>\n",
       "  </tbody>\n",
       "</table>\n",
       "</div>"
      ],
      "text/plain": [
       "                   Serial No.  GRE Score  ...  Research  Chance of Admit \n",
       "Serial No.           1.000000  -0.097526  ... -0.063138          0.042336\n",
       "GRE Score           -0.097526   1.000000  ...  0.580391          0.802610\n",
       "TOEFL Score         -0.147932   0.835977  ...  0.489858          0.791594\n",
       "University Rating   -0.169948   0.668976  ...  0.447783          0.711250\n",
       "SOP                 -0.166932   0.612831  ...  0.444029          0.675732\n",
       "LOR                 -0.088221   0.557555  ...  0.396859          0.669889\n",
       "CGPA                -0.045608   0.833060  ...  0.521654          0.873289\n",
       "Research            -0.063138   0.580391  ...  1.000000          0.553202\n",
       "Chance of Admit      0.042336   0.802610  ...  0.553202          1.000000\n",
       "\n",
       "[9 rows x 9 columns]"
      ]
     },
     "execution_count": 8,
     "metadata": {
      "tags": []
     },
     "output_type": "execute_result"
    }
   ],
   "source": [
    "#relation between columns \n",
    "df.corr()"
   ]
  },
  {
   "cell_type": "code",
   "execution_count": null,
   "metadata": {
    "colab": {
     "base_uri": "https://localhost:8080/",
     "height": 180
    },
    "executionInfo": {
     "elapsed": 1072,
     "status": "ok",
     "timestamp": 1601362114420,
     "user": {
      "displayName": "PRANAY MOHADIKAR",
      "photoUrl": "",
      "userId": "06930064637025479586"
     },
     "user_tz": -330
    },
    "id": "EuXoMNxNnQJG",
    "outputId": "da2c9d58-1506-4920-d0b9-9a3917b990a8"
   },
   "outputs": [
    {
     "data": {
      "text/plain": [
       "Serial No.           0\n",
       "GRE Score            0\n",
       "TOEFL Score          0\n",
       "University Rating    0\n",
       "SOP                  0\n",
       "LOR                  0\n",
       "CGPA                 0\n",
       "Research             0\n",
       "Chance of Admit      0\n",
       "dtype: int64"
      ]
     },
     "execution_count": 12,
     "metadata": {
      "tags": []
     },
     "output_type": "execute_result"
    }
   ],
   "source": [
    "#na values or not or how many\n",
    "df.isna().sum()"
   ]
  },
  {
   "cell_type": "code",
   "execution_count": null,
   "metadata": {
    "id": "J4f86j3OnoqG"
   },
   "outputs": [],
   "source": [
    "#EDA and visualization"
   ]
  },
  {
   "cell_type": "code",
   "execution_count": null,
   "metadata": {
    "colab": {
     "base_uri": "https://localhost:8080/",
     "height": 66
    },
    "executionInfo": {
     "elapsed": 920,
     "status": "ok",
     "timestamp": 1601362270542,
     "user": {
      "displayName": "PRANAY MOHADIKAR",
      "photoUrl": "",
      "userId": "06930064637025479586"
     },
     "user_tz": -330
    },
    "id": "7ZRGYuh8nxaQ",
    "outputId": "f7cf4a43-546d-46d2-9f85-1793a23a37ab"
   },
   "outputs": [
    {
     "data": {
      "text/plain": [
       "Index(['Serial No.', 'GRE Score', 'TOEFL Score', 'University Rating', 'SOP',\n",
       "       'LOR ', 'CGPA', 'Research', 'Chance of Admit '],\n",
       "      dtype='object')"
      ]
     },
     "execution_count": 16,
     "metadata": {
      "tags": []
     },
     "output_type": "execute_result"
    }
   ],
   "source": [
    "df.columns"
   ]
  },
  {
   "cell_type": "code",
   "execution_count": null,
   "metadata": {
    "colab": {
     "base_uri": "https://localhost:8080/",
     "height": 1000
    },
    "executionInfo": {
     "elapsed": 2962,
     "status": "ok",
     "timestamp": 1601362417181,
     "user": {
      "displayName": "PRANAY MOHADIKAR",
      "photoUrl": "",
      "userId": "06930064637025479586"
     },
     "user_tz": -330
    },
    "id": "5xOPM2lWn9JK",
    "outputId": "b5853cbd-c4fe-40ef-c9aa-ef367112cded"
   },
   "outputs": [
    {
     "data": {
      "image/png": "[encoded data removed]",
      "text/plain": [
       "<Figure size 1440x1440 with 8 Axes>"
      ]
     },
     "metadata": {
      "needs_background": "light",
      "tags": []
     },
     "output_type": "display_data"
    }
   ],
   "source": [
    "# distribution plot\n",
    "numcols=['GRE Score', 'TOEFL Score', 'University Rating', 'SOP',\n",
    "       'LOR ', 'CGPA', 'Research', 'Chance of Admit ']\n",
    "\n",
    "fig, axes=plt.subplots(4,2, figsize=(20,20))\n",
    "for i,j in enumerate(numcols):\n",
    "  ax=axes[int(i/2), i%2]\n",
    "  sns.distplot(df[j], ax=ax)\n"
   ]
  },
  {
   "cell_type": "code",
   "execution_count": null,
   "metadata": {
    "colab": {
     "base_uri": "https://localhost:8080/",
     "height": 191
    },
    "executionInfo": {
     "elapsed": 1284,
     "status": "ok",
     "timestamp": 1601362640680,
     "user": {
      "displayName": "PRANAY MOHADIKAR",
      "photoUrl": "",
      "userId": "06930064637025479586"
     },
     "user_tz": -330
    },
    "id": "im1Got3eo0m7",
    "outputId": "1a1712a0-961d-4436-9642-7d6344a7bca4"
   },
   "outputs": [
    {
     "data": {
      "text/html": [
       "<div>\n",
       "<style scoped>\n",
       "    .dataframe tbody tr th:only-of-type {\n",
       "        vertical-align: middle;\n",
       "    }\n",
       "\n",
       "    .dataframe tbody tr th {\n",
       "        vertical-align: top;\n",
       "    }\n",
       "\n",
       "    .dataframe thead th {\n",
       "        text-align: right;\n",
       "    }\n",
       "</style>\n",
       "<table border=\"1\" class=\"dataframe\">\n",
       "  <thead>\n",
       "    <tr style=\"text-align: right;\">\n",
       "      <th></th>\n",
       "      <th>Serial No.</th>\n",
       "      <th>GRE Score</th>\n",
       "      <th>TOEFL Score</th>\n",
       "      <th>University Rating</th>\n",
       "      <th>SOP</th>\n",
       "      <th>LOR</th>\n",
       "      <th>CGPA</th>\n",
       "      <th>Research</th>\n",
       "      <th>Chance of Admit</th>\n",
       "    </tr>\n",
       "  </thead>\n",
       "  <tbody>\n",
       "    <tr>\n",
       "      <th>0</th>\n",
       "      <td>1</td>\n",
       "      <td>337</td>\n",
       "      <td>118</td>\n",
       "      <td>4</td>\n",
       "      <td>4.5</td>\n",
       "      <td>4.5</td>\n",
       "      <td>9.65</td>\n",
       "      <td>1</td>\n",
       "      <td>0.92</td>\n",
       "    </tr>\n",
       "    <tr>\n",
       "      <th>1</th>\n",
       "      <td>2</td>\n",
       "      <td>324</td>\n",
       "      <td>107</td>\n",
       "      <td>4</td>\n",
       "      <td>4.0</td>\n",
       "      <td>4.5</td>\n",
       "      <td>8.87</td>\n",
       "      <td>1</td>\n",
       "      <td>0.76</td>\n",
       "    </tr>\n",
       "    <tr>\n",
       "      <th>2</th>\n",
       "      <td>3</td>\n",
       "      <td>316</td>\n",
       "      <td>104</td>\n",
       "      <td>3</td>\n",
       "      <td>3.0</td>\n",
       "      <td>3.5</td>\n",
       "      <td>8.00</td>\n",
       "      <td>1</td>\n",
       "      <td>0.72</td>\n",
       "    </tr>\n",
       "    <tr>\n",
       "      <th>3</th>\n",
       "      <td>4</td>\n",
       "      <td>322</td>\n",
       "      <td>110</td>\n",
       "      <td>3</td>\n",
       "      <td>3.5</td>\n",
       "      <td>2.5</td>\n",
       "      <td>8.67</td>\n",
       "      <td>1</td>\n",
       "      <td>0.80</td>\n",
       "    </tr>\n",
       "    <tr>\n",
       "      <th>4</th>\n",
       "      <td>5</td>\n",
       "      <td>314</td>\n",
       "      <td>103</td>\n",
       "      <td>2</td>\n",
       "      <td>2.0</td>\n",
       "      <td>3.0</td>\n",
       "      <td>8.21</td>\n",
       "      <td>0</td>\n",
       "      <td>0.65</td>\n",
       "    </tr>\n",
       "  </tbody>\n",
       "</table>\n",
       "</div>"
      ],
      "text/plain": [
       "   Serial No.  GRE Score  TOEFL Score  ...  CGPA  Research  Chance of Admit \n",
       "0           1        337          118  ...  9.65         1              0.92\n",
       "1           2        324          107  ...  8.87         1              0.76\n",
       "2           3        316          104  ...  8.00         1              0.72\n",
       "3           4        322          110  ...  8.67         1              0.80\n",
       "4           5        314          103  ...  8.21         0              0.65\n",
       "\n",
       "[5 rows x 9 columns]"
      ]
     },
     "execution_count": 18,
     "metadata": {
      "tags": []
     },
     "output_type": "execute_result"
    }
   ],
   "source": [
    "df.head()"
   ]
  },
  {
   "cell_type": "code",
   "execution_count": null,
   "metadata": {
    "colab": {
     "base_uri": "https://localhost:8080/",
     "height": 295
    },
    "executionInfo": {
     "elapsed": 1132,
     "status": "ok",
     "timestamp": 1601363164729,
     "user": {
      "displayName": "PRANAY MOHADIKAR",
      "photoUrl": "",
      "userId": "06930064637025479586"
     },
     "user_tz": -330
    },
    "id": "5Sh2bhVTprgY",
    "outputId": "a1fb54d8-ef08-4b9b-9651-6cda47fad71c"
   },
   "outputs": [
    {
     "data": {
      "text/plain": [
       "Text(0, 0.5, 'Chance_Admit')"
      ]
     },
     "execution_count": 30,
     "metadata": {
      "tags": []
     },
     "output_type": "execute_result"
    },
    {
     "data": {
      "image/png": "[encoded data removed]",
      "text/plain": [
       "<Figure size 432x288 with 1 Axes>"
      ]
     },
     "metadata": {
      "needs_background": "light",
      "tags": []
     },
     "output_type": "display_data"
    }
   ],
   "source": [
    "#gre with admission\n",
    "gre_admit=df.groupby('GRE Score').max()['Chance of Admit ']\n",
    "gre_admit.plot(kind='line', color='r', marker='o')\n",
    "plt.ylabel('Chance_Admit')"
   ]
  },
  {
   "cell_type": "markdown",
   "metadata": {
    "id": "o66vTr0oqZJa"
   },
   "source": [
    "it looks like score>326 has 90+ percent chances of admission"
   ]
  },
  {
   "cell_type": "code",
   "execution_count": null,
   "metadata": {
    "colab": {
     "base_uri": "https://localhost:8080/",
     "height": 295
    },
    "executionInfo": {
     "elapsed": 1334,
     "status": "ok",
     "timestamp": 1601363223145,
     "user": {
      "displayName": "PRANAY MOHADIKAR",
      "photoUrl": "",
      "userId": "06930064637025479586"
     },
     "user_tz": -330
    },
    "id": "J2h5XdWvqCYA",
    "outputId": "77b031ae-4252-4f98-a178-b4854b7ea1f0"
   },
   "outputs": [
    {
     "data": {
      "text/plain": [
       "Text(0, 0.5, 'Chance_Admit')"
      ]
     },
     "execution_count": 33,
     "metadata": {
      "tags": []
     },
     "output_type": "execute_result"
    },
    {
     "data": {
      "image/png": "[encoded data removed]",
      "text/plain": [
       "<Figure size 432x288 with 1 Axes>"
      ]
     },
     "metadata": {
      "needs_background": "light",
      "tags": []
     },
     "output_type": "display_data"
    }
   ],
   "source": [
    "#toefl with admission\n",
    "toefl_admit=df.groupby('TOEFL Score').max()['Chance of Admit ']\n",
    "toefl_admit.plot(kind='line', color='g', marker='o')\n",
    "plt.ylabel('Chance_Admit')"
   ]
  },
  {
   "cell_type": "code",
   "execution_count": null,
   "metadata": {
    "colab": {
     "base_uri": "https://localhost:8080/",
     "height": 408
    },
    "executionInfo": {
     "elapsed": 1290,
     "status": "ok",
     "timestamp": 1601363286753,
     "user": {
      "displayName": "PRANAY MOHADIKAR",
      "photoUrl": "",
      "userId": "06930064637025479586"
     },
     "user_tz": -330
    },
    "id": "b7KZBMhqq1Ll",
    "outputId": "7056aa70-fc4e-4999-85be-eea85f01c12f"
   },
   "outputs": [
    {
     "data": {
      "text/plain": [
       "Text(0, 0.5, 'Chance_Admit')"
      ]
     },
     "execution_count": 37,
     "metadata": {
      "tags": []
     },
     "output_type": "execute_result"
    },
    {
     "data": {
      "image/png": "[encoded data removed]",
      "text/plain": [
       "<Figure size 1080x432 with 1 Axes>"
      ]
     },
     "metadata": {
      "needs_background": "light",
      "tags": []
     },
     "output_type": "display_data"
    }
   ],
   "source": [
    "#cgpa with admission\n",
    "cgpa_admit=df.groupby('CGPA').max()['Chance of Admit ']\n",
    "cgpa_admit.plot(kind='line', color='b', marker='o', figsize=(15,6))\n",
    "plt.ylabel('Chance_Admit')"
   ]
  },
  {
   "cell_type": "markdown",
   "metadata": {
    "id": "eKl-UL0OsNCg"
   },
   "source": [
    "it looks like GRE and TOEFL scores are more related with chances of admission than CGPA"
   ]
  },
  {
   "cell_type": "code",
   "execution_count": null,
   "metadata": {
    "colab": {
     "base_uri": "https://localhost:8080/",
     "height": 403
    },
    "executionInfo": {
     "elapsed": 3502,
     "status": "ok",
     "timestamp": 1601363822482,
     "user": {
      "displayName": "PRANAY MOHADIKAR",
      "photoUrl": "",
      "userId": "06930064637025479586"
     },
     "user_tz": -330
    },
    "id": "-8kQn3YSryFp",
    "outputId": "564a1242-7ac0-472d-e608-3be046d66fff"
   },
   "outputs": [
    {
     "data": {
      "text/plain": [
       "Text(0, 0.5, 'Chance_Admit')"
      ]
     },
     "execution_count": 41,
     "metadata": {
      "tags": []
     },
     "output_type": "execute_result"
    },
    {
     "data": {
      "image/png": "[encoded data removed]",
      "text/plain": [
       "<Figure size 1080x432 with 1 Axes>"
      ]
     },
     "metadata": {
      "needs_background": "light",
      "tags": []
     },
     "output_type": "display_data"
    }
   ],
   "source": [
    "#research with admission\n",
    "research_admit=df.groupby('Research').mean()['Chance of Admit ']\n",
    "research_admit.plot(kind='line', color='k', marker='o', figsize=(15,6))\n",
    "plt.ylabel('Chance_Admit')"
   ]
  },
  {
   "cell_type": "markdown",
   "metadata": {
    "id": "SqNErRwNuPBn"
   },
   "source": [
    "mean chances of admission with no reserch is 64% but with research project is ~80%"
   ]
  },
  {
   "cell_type": "code",
   "execution_count": null,
   "metadata": {
    "id": "YbYYOyN9s5na"
   },
   "outputs": [],
   "source": [
    "# model building"
   ]
  },
  {
   "cell_type": "code",
   "execution_count": null,
   "metadata": {
    "id": "Meezt9e-ukF-"
   },
   "outputs": [],
   "source": [
    "from sklearn.model_selection import train_test_split, RandomizedSearchCV, cross_val_predict\n",
    "from sklearn.linear_model import LinearRegression, Lasso, Ridge\n",
    "from sklearn.tree import DecisionTreeRegressor\n",
    "from sklearn.ensemble import RandomForestRegressor, AdaBoostRegressor\n",
    "from xgboost import XGBRegressor\n",
    "from sklearn.svm import SVR\n"
   ]
  },
  {
   "cell_type": "code",
   "execution_count": 56,
   "metadata": {
    "executionInfo": {
     "elapsed": 1118,
     "status": "ok",
     "timestamp": 1601369509675,
     "user": {
      "displayName": "PRANAY MOHADIKAR",
      "photoUrl": "",
      "userId": "06930064637025479586"
     },
     "user_tz": -330
    },
    "id": "TsbLfpwqwQir"
   },
   "outputs": [],
   "source": [
    "y=df['Chance of Admit ']\n",
    "X=df.drop(['Chance of Admit ','Serial No.'],axis=1)"
   ]
  },
  {
   "cell_type": "code",
   "execution_count": 57,
   "metadata": {
    "executionInfo": {
     "elapsed": 679,
     "status": "ok",
     "timestamp": 1601369511196,
     "user": {
      "displayName": "PRANAY MOHADIKAR",
      "photoUrl": "",
      "userId": "06930064637025479586"
     },
     "user_tz": -330
    },
    "id": "f__GHotFwhUM"
   },
   "outputs": [],
   "source": [
    "X_train,X_test,y_train,y_test=train_test_split(X,y,test_size=0.2, random_state=42)"
   ]
  },
  {
   "cell_type": "code",
   "execution_count": 58,
   "metadata": {
    "colab": {
     "base_uri": "https://localhost:8080/",
     "height": 34
    },
    "executionInfo": {
     "elapsed": 1130,
     "status": "ok",
     "timestamp": 1601369513274,
     "user": {
      "displayName": "PRANAY MOHADIKAR",
      "photoUrl": "",
      "userId": "06930064637025479586"
     },
     "user_tz": -330
    },
    "id": "lXS-u5cHwpS0",
    "outputId": "4983538f-2654-443f-b8e4-91c5a88fc264"
   },
   "outputs": [
    {
     "name": "stdout",
     "output_type": "stream",
     "text": [
      "0.8212082591486993\n"
     ]
    }
   ],
   "source": [
    "# linear regression\n",
    "lr=LinearRegression()\n",
    "lr.fit(X_train,y_train)\n",
    "pred_lr=lr.predict(X_test)\n",
    "score_lr=lr.score(X_test,y_test)\n",
    "print(score_lr)"
   ]
  },
  {
   "cell_type": "code",
   "execution_count": 59,
   "metadata": {
    "colab": {
     "base_uri": "https://localhost:8080/",
     "height": 34
    },
    "executionInfo": {
     "elapsed": 1552,
     "status": "ok",
     "timestamp": 1601369515906,
     "user": {
      "displayName": "PRANAY MOHADIKAR",
      "photoUrl": "",
      "userId": "06930064637025479586"
     },
     "user_tz": -330
    },
    "id": "8v6I2W5ixJW3",
    "outputId": "306fd4db-5f79-4e75-d9fe-f968290f70db"
   },
   "outputs": [
    {
     "name": "stdout",
     "output_type": "stream",
     "text": [
      "0.21225769113829052\n"
     ]
    }
   ],
   "source": [
    "# lasso regression\n",
    "L=Lasso()\n",
    "L.fit(X_train,y_train)\n",
    "pred_L=L.predict(X_test)\n",
    "score_L=L.score(X_test,y_test)\n",
    "print(score_L)"
   ]
  },
  {
   "cell_type": "code",
   "execution_count": 60,
   "metadata": {
    "colab": {
     "base_uri": "https://localhost:8080/",
     "height": 34
    },
    "executionInfo": {
     "elapsed": 936,
     "status": "ok",
     "timestamp": 1601369517842,
     "user": {
      "displayName": "PRANAY MOHADIKAR",
      "photoUrl": "",
      "userId": "06930064637025479586"
     },
     "user_tz": -330
    },
    "id": "7HJkbKJgxb6p",
    "outputId": "32a1bbf1-f381-45a4-c388-818b86b8c3cc"
   },
   "outputs": [
    {
     "name": "stdout",
     "output_type": "stream",
     "text": [
      "0.8204337208459433\n"
     ]
    }
   ],
   "source": [
    "# Ridge regression\n",
    "R=Ridge()\n",
    "R.fit(X_train,y_train)\n",
    "pred_R=R.predict(X_test)\n",
    "score_R=R.score(X_test,y_test)\n",
    "print(score_R)"
   ]
  },
  {
   "cell_type": "code",
   "execution_count": 61,
   "metadata": {
    "colab": {
     "base_uri": "https://localhost:8080/",
     "height": 34
    },
    "executionInfo": {
     "elapsed": 964,
     "status": "ok",
     "timestamp": 1601369520119,
     "user": {
      "displayName": "PRANAY MOHADIKAR",
      "photoUrl": "",
      "userId": "06930064637025479586"
     },
     "user_tz": -330
    },
    "id": "763WgjaRxs8D",
    "outputId": "dc2256f9-067e-4e51-cb55-8e63e574b66b"
   },
   "outputs": [
    {
     "name": "stdout",
     "output_type": "stream",
     "text": [
      "0.584291112395209\n"
     ]
    }
   ],
   "source": [
    "# Decision tree regression\n",
    "dtr=DecisionTreeRegressor()\n",
    "dtr.fit(X_train,y_train)\n",
    "pred_dtr=dtr.predict(X_test)\n",
    "score_dtr=dtr.score(X_test,y_test)\n",
    "print(score_dtr)"
   ]
  },
  {
   "cell_type": "code",
   "execution_count": 62,
   "metadata": {
    "colab": {
     "base_uri": "https://localhost:8080/",
     "height": 34
    },
    "executionInfo": {
     "elapsed": 1025,
     "status": "ok",
     "timestamp": 1601369522019,
     "user": {
      "displayName": "PRANAY MOHADIKAR",
      "photoUrl": "",
      "userId": "06930064637025479586"
     },
     "user_tz": -330
    },
    "id": "tuXJKU9XyCrl",
    "outputId": "f2f5296a-1faf-4117-bd5a-7a3d22957210"
   },
   "outputs": [
    {
     "name": "stdout",
     "output_type": "stream",
     "text": [
      "0.8106470074635672\n"
     ]
    }
   ],
   "source": [
    "# random forest regression\n",
    "rfr=RandomForestRegressor()\n",
    "rfr.fit(X_train,y_train)\n",
    "pred_rfr=rfr.predict(X_test)\n",
    "score_rfr=rfr.score(X_test,y_test)\n",
    "print(score_rfr)"
   ]
  },
  {
   "cell_type": "code",
   "execution_count": 74,
   "metadata": {
    "colab": {
     "base_uri": "https://localhost:8080/",
     "height": 138
    },
    "executionInfo": {
     "elapsed": 1015,
     "status": "ok",
     "timestamp": 1601369883472,
     "user": {
      "displayName": "PRANAY MOHADIKAR",
      "photoUrl": "",
      "userId": "06930064637025479586"
     },
     "user_tz": -330
    },
    "id": "J2ALMaB9FReO",
    "outputId": "3bcff19c-a94d-40bb-b574-9258f94e485c"
   },
   "outputs": [
    {
     "data": {
      "text/plain": [
       "RandomForestRegressor(bootstrap=True, ccp_alpha=0.0, criterion='mse',\n",
       "                      max_depth=None, max_features='auto', max_leaf_nodes=None,\n",
       "                      max_samples=None, min_impurity_decrease=0.0,\n",
       "                      min_impurity_split=None, min_samples_leaf=1,\n",
       "                      min_samples_split=2, min_weight_fraction_leaf=0.0,\n",
       "                      n_estimators=100, n_jobs=None, oob_score=False,\n",
       "                      random_state=None, verbose=0, warm_start=False)"
      ]
     },
     "execution_count": 74,
     "metadata": {
      "tags": []
     },
     "output_type": "execute_result"
    }
   ],
   "source": [
    "rfr=RandomForestRegressor()\n",
    "rfr.fit(X_train,y_train)"
   ]
  },
  {
   "cell_type": "code",
   "execution_count": 63,
   "metadata": {
    "colab": {
     "base_uri": "https://localhost:8080/",
     "height": 34
    },
    "executionInfo": {
     "elapsed": 1016,
     "status": "ok",
     "timestamp": 1601369523873,
     "user": {
      "displayName": "PRANAY MOHADIKAR",
      "photoUrl": "",
      "userId": "06930064637025479586"
     },
     "user_tz": -330
    },
    "id": "sAe4xKCjyYM8",
    "outputId": "6ede52c8-c3d8-4bb8-e999-a5eca958b45d"
   },
   "outputs": [
    {
     "name": "stdout",
     "output_type": "stream",
     "text": [
      "0.7935463661162526\n"
     ]
    }
   ],
   "source": [
    "# adaboost regression\n",
    "adb=AdaBoostRegressor()\n",
    "adb.fit(X_train,y_train)\n",
    "pred_adb=adb.predict(X_test)\n",
    "score_adb=adb.score(X_test,y_test)\n",
    "print(score_adb)"
   ]
  },
  {
   "cell_type": "code",
   "execution_count": 64,
   "metadata": {
    "colab": {
     "base_uri": "https://localhost:8080/",
     "height": 52
    },
    "executionInfo": {
     "elapsed": 1056,
     "status": "ok",
     "timestamp": 1601369525735,
     "user": {
      "displayName": "PRANAY MOHADIKAR",
      "photoUrl": "",
      "userId": "06930064637025479586"
     },
     "user_tz": -330
    },
    "id": "dtD5hL-JysHd",
    "outputId": "2a59be3f-9d27-4b11-a673-548068a56106"
   },
   "outputs": [
    {
     "name": "stdout",
     "output_type": "stream",
     "text": [
      "[08:52:05] WARNING: /workspace/src/objective/regression_obj.cu:152: reg:linear is now deprecated in favor of reg:squarederror.\n",
      "0.8146534207115437\n"
     ]
    }
   ],
   "source": [
    "# xgboost regression\n",
    "xgb=XGBRegressor()\n",
    "xgb.fit(X_train,y_train)\n",
    "pred_xgb=xgb.predict(X_test)\n",
    "score_xgb=xgb.score(X_test,y_test)\n",
    "print(score_xgb)"
   ]
  },
  {
   "cell_type": "code",
   "execution_count": 65,
   "metadata": {
    "colab": {
     "base_uri": "https://localhost:8080/",
     "height": 34
    },
    "executionInfo": {
     "elapsed": 995,
     "status": "ok",
     "timestamp": 1601369537371,
     "user": {
      "displayName": "PRANAY MOHADIKAR",
      "photoUrl": "",
      "userId": "06930064637025479586"
     },
     "user_tz": -330
    },
    "id": "fXMqdJmd0RVM",
    "outputId": "f8874590-2cd4-4d33-aab9-a5d030058d19"
   },
   "outputs": [
    {
     "name": "stdout",
     "output_type": "stream",
     "text": [
      "0.6348008667533296\n"
     ]
    }
   ],
   "source": [
    "# Support vector regression\n",
    "svr=SVR()\n",
    "svr.fit(X_train,y_train)\n",
    "pred_svr=svr.predict(X_test)\n",
    "score_svr=svr.score(X_test,y_test)\n",
    "print(score_svr)"
   ]
  },
  {
   "cell_type": "code",
   "execution_count": 66,
   "metadata": {
    "colab": {
     "base_uri": "https://localhost:8080/",
     "height": 202
    },
    "executionInfo": {
     "elapsed": 1403,
     "status": "ok",
     "timestamp": 1601369575085,
     "user": {
      "displayName": "PRANAY MOHADIKAR",
      "photoUrl": "",
      "userId": "06930064637025479586"
     },
     "user_tz": -330
    },
    "id": "WL7Y88jF2Kto",
    "outputId": "ca3de7d4-9597-4e94-fe9c-2fef37f05cb5"
   },
   "outputs": [
    {
     "data": {
      "text/html": [
       "<div>\n",
       "<style scoped>\n",
       "    .dataframe tbody tr th:only-of-type {\n",
       "        vertical-align: middle;\n",
       "    }\n",
       "\n",
       "    .dataframe tbody tr th {\n",
       "        vertical-align: top;\n",
       "    }\n",
       "\n",
       "    .dataframe thead th {\n",
       "        text-align: right;\n",
       "    }\n",
       "</style>\n",
       "<table border=\"1\" class=\"dataframe\">\n",
       "  <thead>\n",
       "    <tr style=\"text-align: right;\">\n",
       "      <th></th>\n",
       "      <th>Serial No.</th>\n",
       "      <th>GRE Score</th>\n",
       "      <th>TOEFL Score</th>\n",
       "      <th>University Rating</th>\n",
       "      <th>SOP</th>\n",
       "      <th>LOR</th>\n",
       "      <th>CGPA</th>\n",
       "      <th>Research</th>\n",
       "      <th>Chance of Admit</th>\n",
       "    </tr>\n",
       "  </thead>\n",
       "  <tbody>\n",
       "    <tr>\n",
       "      <th>0</th>\n",
       "      <td>1</td>\n",
       "      <td>337</td>\n",
       "      <td>118</td>\n",
       "      <td>4</td>\n",
       "      <td>4.5</td>\n",
       "      <td>4.5</td>\n",
       "      <td>9.65</td>\n",
       "      <td>1</td>\n",
       "      <td>0.92</td>\n",
       "    </tr>\n",
       "    <tr>\n",
       "      <th>1</th>\n",
       "      <td>2</td>\n",
       "      <td>324</td>\n",
       "      <td>107</td>\n",
       "      <td>4</td>\n",
       "      <td>4.0</td>\n",
       "      <td>4.5</td>\n",
       "      <td>8.87</td>\n",
       "      <td>1</td>\n",
       "      <td>0.76</td>\n",
       "    </tr>\n",
       "    <tr>\n",
       "      <th>2</th>\n",
       "      <td>3</td>\n",
       "      <td>316</td>\n",
       "      <td>104</td>\n",
       "      <td>3</td>\n",
       "      <td>3.0</td>\n",
       "      <td>3.5</td>\n",
       "      <td>8.00</td>\n",
       "      <td>1</td>\n",
       "      <td>0.72</td>\n",
       "    </tr>\n",
       "    <tr>\n",
       "      <th>3</th>\n",
       "      <td>4</td>\n",
       "      <td>322</td>\n",
       "      <td>110</td>\n",
       "      <td>3</td>\n",
       "      <td>3.5</td>\n",
       "      <td>2.5</td>\n",
       "      <td>8.67</td>\n",
       "      <td>1</td>\n",
       "      <td>0.80</td>\n",
       "    </tr>\n",
       "    <tr>\n",
       "      <th>4</th>\n",
       "      <td>5</td>\n",
       "      <td>314</td>\n",
       "      <td>103</td>\n",
       "      <td>2</td>\n",
       "      <td>2.0</td>\n",
       "      <td>3.0</td>\n",
       "      <td>8.21</td>\n",
       "      <td>0</td>\n",
       "      <td>0.65</td>\n",
       "    </tr>\n",
       "  </tbody>\n",
       "</table>\n",
       "</div>"
      ],
      "text/plain": [
       "   Serial No.  GRE Score  TOEFL Score  ...  CGPA  Research  Chance of Admit \n",
       "0           1        337          118  ...  9.65         1              0.92\n",
       "1           2        324          107  ...  8.87         1              0.76\n",
       "2           3        316          104  ...  8.00         1              0.72\n",
       "3           4        322          110  ...  8.67         1              0.80\n",
       "4           5        314          103  ...  8.21         0              0.65\n",
       "\n",
       "[5 rows x 9 columns]"
      ]
     },
     "execution_count": 66,
     "metadata": {
      "tags": []
     },
     "output_type": "execute_result"
    }
   ],
   "source": [
    "df.head()"
   ]
  },
  {
   "cell_type": "code",
   "execution_count": 76,
   "metadata": {
    "executionInfo": {
     "elapsed": 33603,
     "status": "ok",
     "timestamp": 1601370164620,
     "user": {
      "displayName": "PRANAY MOHADIKAR",
      "photoUrl": "",
      "userId": "06930064637025479586"
     },
     "user_tz": -330
    },
    "id": "Gryb_e0-FDMf"
   },
   "outputs": [],
   "source": [
    "# hyperparameter tuning of rfr\n",
    "params={'n_estimators':[x for x in range(100,1200,100)],\n",
    "        'ccp_alpha':[0.001,0.01,0.1,1,0,10],\n",
    "        'max_depth':[x for x in range(1,32,32)],\n",
    "        'min_samples_leaf':[1,2,3,4,5],\n",
    "        'min_samples_split':[2,4,6,8,10]}\n",
    "random_rfr=RandomizedSearchCV(rfr, param_distributions=params, cv=5)\n",
    "random_rfr.fit(X_train,y_train)\n",
    "random_rfr_score=random_rfr.score(X_test,y_test)\n"
   ]
  },
  {
   "cell_type": "code",
   "execution_count": 77,
   "metadata": {
    "colab": {
     "base_uri": "https://localhost:8080/",
     "height": 34
    },
    "executionInfo": {
     "elapsed": 978,
     "status": "ok",
     "timestamp": 1601370189933,
     "user": {
      "displayName": "PRANAY MOHADIKAR",
      "photoUrl": "",
      "userId": "06930064637025479586"
     },
     "user_tz": -330
    },
    "id": "p6pNxFReGeMZ",
    "outputId": "375bbbcf-efe1-439d-bd7c-32ffb708472e"
   },
   "outputs": [
    {
     "data": {
      "text/plain": [
       "0.6223634235632753"
      ]
     },
     "execution_count": 77,
     "metadata": {
      "tags": []
     },
     "output_type": "execute_result"
    }
   ],
   "source": [
    "random_rfr_score"
   ]
  },
  {
   "cell_type": "code",
   "execution_count": 72,
   "metadata": {
    "executionInfo": {
     "elapsed": 958,
     "status": "ok",
     "timestamp": 1601369752196,
     "user": {
      "displayName": "PRANAY MOHADIKAR",
      "photoUrl": "",
      "userId": "06930064637025479586"
     },
     "user_tz": -330
    },
    "id": "3JY90F0YEybL"
   },
   "outputs": [],
   "source": [
    "#prediction"
   ]
  },
  {
   "cell_type": "code",
   "execution_count": 71,
   "metadata": {
    "colab": {
     "base_uri": "https://localhost:8080/",
     "height": 34
    },
    "executionInfo": {
     "elapsed": 1189,
     "status": "ok",
     "timestamp": 1601369738726,
     "user": {
      "displayName": "PRANAY MOHADIKAR",
      "photoUrl": "",
      "userId": "06930064637025479586"
     },
     "user_tz": -330
    },
    "id": "6jYQk_OXEIU5",
    "outputId": "723d0c11-8959-486b-b231-460bceb058b4"
   },
   "outputs": [
    {
     "data": {
      "text/plain": [
       "88.8213710306331"
      ]
     },
     "execution_count": 71,
     "metadata": {
      "tags": []
     },
     "output_type": "execute_result"
    }
   ],
   "source": [
    "lr.predict([[340,120,1,5,4,9.5,0]])[0]*100"
   ]
  },
  {
   "cell_type": "code",
   "execution_count": 78,
   "metadata": {
    "executionInfo": {
     "elapsed": 1186,
     "status": "ok",
     "timestamp": 1601370830257,
     "user": {
      "displayName": "PRANAY MOHADIKAR",
      "photoUrl": "",
      "userId": "06930064637025479586"
     },
     "user_tz": -330
    },
    "id": "E-l74czMEcjG"
   },
   "outputs": [],
   "source": [
    "## pickle file \n",
    "pd.to_pickle(lr, 'admit_ucla_64bit.pickle')"
   ]
  },
  {
   "cell_type": "code",
   "execution_count": null,
   "metadata": {
    "id": "0ZF7N2S3I7CU"
   },
   "outputs": [],
   "source": []
  }
 ],
 "metadata": {
  "colab": {
   "authorship_tag": "ABX9TyMfLFr1qmHtvdf1PYI9Cetk",
   "collapsed_sections": [],
   "mount_file_id": "1TXr0pqMU2-nZFfdmI_OH5SJhqKSbvmZX",
   "name": "Admission_UCLA.ipynb",
   "provenance": []
  },
  "kernelspec": {
   "display_name": "Python 3",
   "language": "python",
   "name": "python3"
  },
  "language_info": {
   "codemirror_mode": {
    "name": "ipython",
    "version": 3
   },
   "file_extension": ".py",
   "mimetype": "text/x-python",
   "name": "python",
   "nbconvert_exporter": "python",
   "pygments_lexer": "ipython3",
   "version": "3.8.5"
  }
 },
 "nbformat": 4,
 "nbformat_minor": 1
}
