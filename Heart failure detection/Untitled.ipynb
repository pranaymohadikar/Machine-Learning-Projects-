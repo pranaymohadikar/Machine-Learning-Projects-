{
 "cells": [
  {
   "cell_type": "code",
   "execution_count": 1,
   "metadata": {},
   "outputs": [],
   "source": [
    "import pandas as pd\n",
    "from sklearn.model_selection import train_test_split\n",
    "from sklearn.model_selection import cross_val_score\n",
    "from sklearn.model_selection import RandomizedSearchCV\n",
    "\n",
    "df=pd.read_csv('heartfailure.csv')\n",
    "## removing of ejection fraction outliers\n",
    "\n",
    "df=df[~(df['ejection_fraction']>=70)]\n",
    "\n",
    "X=df.drop('DEATH_EVENT',1)\n",
    "y=df['DEATH_EVENT']\n",
    "\n",
    "## random forest\n",
    "\n",
    "from sklearn.ensemble import RandomForestClassifier\n",
    "X_train,X_test,y_train,y_test=train_test_split(X,y,test_size=0.2,random_state=42)\n",
    "rfc=RandomForestClassifier()\n",
    "rfc.fit(X_train,y_train)\n",
    "pred_rfc=rfc.predict(X_test)\n",
    "score_rfc=rfc.score(X_test,y_test)\n",
    "\n",
    "#model pickle\n",
    "\n",
    "pd.to_pickle(rfc,'model_heart_64bit.pickle')\n"
   ]
  },
  {
   "cell_type": "code",
   "execution_count": 2,
   "metadata": {},
   "outputs": [
    {
     "data": {
      "text/plain": [
       "0.85"
      ]
     },
     "execution_count": 2,
     "metadata": {},
     "output_type": "execute_result"
    }
   ],
   "source": [
    "score_rfc"
   ]
  },
  {
   "cell_type": "code",
   "execution_count": 6,
   "metadata": {},
   "outputs": [
    {
     "name": "stdout",
     "output_type": "stream",
     "text": [
      "enter pranay:12\n",
      "enter vinay:21\n",
      "enter vinaya:21\n"
     ]
    }
   ],
   "source": [
    "x=['pranay','vinay','vinaya']\n",
    "a=[]\n",
    "for i in x:\n",
    "    a.append(int(input(f'enter {i}:')))"
   ]
  },
  {
   "cell_type": "code",
   "execution_count": null,
   "metadata": {},
   "outputs": [],
   "source": []
  }
 ],
 "metadata": {
  "kernelspec": {
   "display_name": "Python 3",
   "language": "python",
   "name": "python3"
  },
  "language_info": {
   "codemirror_mode": {
    "name": "ipython",
    "version": 3
   },
   "file_extension": ".py",
   "mimetype": "text/x-python",
   "name": "python",
   "nbconvert_exporter": "python",
   "pygments_lexer": "ipython3",
   "version": "3.8.5"
  }
 },
 "nbformat": 4,
 "nbformat_minor": 4
}
