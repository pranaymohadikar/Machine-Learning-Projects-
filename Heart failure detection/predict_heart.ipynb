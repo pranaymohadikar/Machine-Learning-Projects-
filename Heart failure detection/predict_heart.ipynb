{
 "cells": [
  {
   "cell_type": "code",
   "execution_count": 2,
   "metadata": {},
   "outputs": [
    {
     "name": "stdout",
     "output_type": "stream",
     "text": [
      " enter age :75\n",
      " enter anaemia :0\n",
      " enter creatinine_phosphokinase :582\n",
      " enter diabetes :0\n",
      " enter ejection_fraction :20\n",
      " enter high_blood_pressure :1\n",
      " enter platelets :265000\n",
      " enter serum_creatinine :1.9\n",
      " enter serum_sodium :130\n",
      " enter sex :1\n",
      " enter smoking :0\n",
      " enter time :4\n",
      "Chances are : 1\n"
     ]
    }
   ],
   "source": [
    "import pandas as pd\n",
    "\n",
    "# Unpickle model \n",
    "model = pd.read_pickle('rfc_model_heart.pickle') \n",
    "\n",
    "# Take input from user\n",
    "df=pd.read_csv('heartfailure.csv')\n",
    "X=df.drop('DEATH_EVENT',1)\n",
    "h=X.columns\n",
    "s=[]\n",
    "for i in h:\n",
    "    s.append(float(input(f' enter {i} :')))\n",
    "\n",
    "# Predict chances \n",
    "result = model.predict([s]) # input must be 2D array\n",
    "print(f\"Chances are : {result[0]}\")"
   ]
  },
  {
   "cell_type": "code",
   "execution_count": null,
   "metadata": {},
   "outputs": [],
   "source": []
  }
 ],
 "metadata": {
  "kernelspec": {
   "display_name": "Python 3",
   "language": "python",
   "name": "python3"
  },
  "language_info": {
   "codemirror_mode": {
    "name": "ipython",
    "version": 3
   },
   "file_extension": ".py",
   "mimetype": "text/x-python",
   "name": "python",
   "nbconvert_exporter": "python",
   "pygments_lexer": "ipython3",
   "version": "3.8.5"
  }
 },
 "nbformat": 4,
 "nbformat_minor": 4
}
